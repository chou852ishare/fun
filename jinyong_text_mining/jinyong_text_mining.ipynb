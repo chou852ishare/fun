{
 "cells": [
  {
   "cell_type": "code",
   "execution_count": 27,
   "metadata": {
    "collapsed": false,
    "scrolled": true
   },
   "outputs": [
    {
     "name": "stdout",
     "output_type": "stream",
     "text": [
      "Populating the interactive namespace from numpy and matplotlib\n"
     ]
    }
   ],
   "source": [
    "import pandas as pd\n",
    "from matplotlib.font_manager import FontProperties\n",
    "\n",
    "import cleanse, util\n",
    "reload(cleanse)\n",
    "reload(util)\n",
    "\n",
    "%pylab inline\n",
    "myfont = FontProperties(fname='/home/zzhou2/Fonts/simhei.ttf')"
   ]
  },
  {
   "cell_type": "code",
   "execution_count": 36,
   "metadata": {
    "collapsed": false
   },
   "outputs": [],
   "source": [
    "roles, gangs, kongfus = cleanse.get_entities()\n",
    "contents = cleanse.get_all_content()"
   ]
  },
  {
   "cell_type": "code",
   "execution_count": 59,
   "metadata": {
    "collapsed": false,
    "scrolled": false
   },
   "outputs": [
    {
     "ename": "SyntaxError",
     "evalue": "invalid syntax (<ipython-input-59-2882156fa937>, line 12)",
     "output_type": "error",
     "traceback": [
      "\u001b[1;36m  File \u001b[1;32m\"<ipython-input-59-2882156fa937>\"\u001b[1;36m, line \u001b[1;32m12\u001b[0m\n\u001b[1;33m    main_character(u'天龙八部')\u001b[0m\n\u001b[1;37m                            \n^\u001b[0m\n\u001b[1;31mSyntaxError\u001b[0m\u001b[1;31m:\u001b[0m invalid syntax\n"
     ]
    }
   ],
   "source": [
    "def main_character(novel):\n",
    "    count = util.count_occurrence(roles, contents, novel)\n",
    "    d = count.sort_values().tail(10)\n",
    "    figure()\n",
    "    ax = d.plot(kind='barh', figsize=(12,6))\n",
    "    ax.set_yticklabels(d.index, fontsize=12, fontproperties=myfont)\n",
    "    title(novel, fontproperties=myfont)\n",
    "    \n",
    "main_character(u'射雕英雄传')\n",
    "main_character(u\"神雕侠侣\")\n",
    "main_character(u\"倚天屠龙记\")\n",
    "main_character(u'天龙八部') "
   ]
  },
  {
   "cell_type": "code",
   "execution_count": null,
   "metadata": {
    "collapsed": true
   },
   "outputs": [],
   "source": []
  }
 ],
 "metadata": {
  "kernelspec": {
   "display_name": "Python 2",
   "language": "python",
   "name": "python2"
  },
  "language_info": {
   "codemirror_mode": {
    "name": "ipython",
    "version": 2
   },
   "file_extension": ".py",
   "mimetype": "text/x-python",
   "name": "python",
   "nbconvert_exporter": "python",
   "pygments_lexer": "ipython2",
   "version": "2.7.6"
  }
 },
 "nbformat": 4,
 "nbformat_minor": 0
}
